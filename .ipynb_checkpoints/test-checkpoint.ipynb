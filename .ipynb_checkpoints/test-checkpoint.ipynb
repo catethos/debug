{
 "cells": [
  {
   "cell_type": "markdown",
   "id": "b000d1bf-f447-4719-9c2b-de3cc0c154e3",
   "metadata": {
    "tags": []
   },
   "source": [
    "# Libraries"
   ]
  },
  {
   "cell_type": "code",
   "execution_count": null,
   "id": "ec86b536-8ce1-453b-b626-a4e535b7f93f",
   "metadata": {},
   "outputs": [],
   "source": [
    "using Pkg\n",
    "Pkg.activate(\".\")"
   ]
  },
  {
   "cell_type": "code",
   "execution_count": null,
   "id": "f6cb2c64-dc0b-4453-ab33-827bd101a634",
   "metadata": {},
   "outputs": [],
   "source": [
    "using TypeDBClient: AbstractCoreSession,\n",
    "                    CoreClient,\n",
    "                    CoreSession,\n",
    "                    AbstractCoreTransaction,\n",
    "                    Proto,\n",
    "                    commit,\n",
    "                    insert, \n",
    "                    transaction, \n",
    "                    define\n",
    "using CSV\n",
    "using DataFrames\n",
    "using Random\n",
    "using ProgressMeter"
   ]
  },
  {
   "cell_type": "code",
   "execution_count": null,
   "id": "1f82324d-bb50-480d-9582-a00a845528e4",
   "metadata": {},
   "outputs": [],
   "source": [
    "const URL = \"192.168.0.110\"\n",
    "const PORT = 1729\n",
    "const DB_NAME = \"test\""
   ]
  },
  {
   "cell_type": "markdown",
   "id": "7579ad8c-fffc-404b-8f30-2ad816411aa5",
   "metadata": {
    "tags": []
   },
   "source": [
    "# Setup"
   ]
  },
  {
   "cell_type": "code",
   "execution_count": null,
   "id": "26fc0f71-a154-4a85-b9a7-8ca69fcaac5d",
   "metadata": {},
   "outputs": [],
   "source": [
    "client = CoreClient(URL)\n",
    "if contains_database(client, DB_NAME)\n",
    "    @info \"$(DB_NAME) exist\"\n",
    "    delete_database(client, DB_NAME)\n",
    "    @info \"$(DB_NAME) is deleted\"\n",
    "end\n",
    "create_database(client, DB_NAME)\n",
    "@info \"$(DB_NAME) is created\"\n",
    "close(client)"
   ]
  },
  {
   "cell_type": "markdown",
   "id": "3cb89041-38e6-43e2-93cb-a06a5fe48815",
   "metadata": {
    "tags": []
   },
   "source": [
    "# Write Schema"
   ]
  },
  {
   "cell_type": "code",
   "execution_count": null,
   "id": "474b93eb-b153-4d4d-8b77-ba86232a7618",
   "metadata": {},
   "outputs": [],
   "source": [
    "client = CoreClient(URL)\n",
    "session = CoreSession(client, DB_NAME, Proto.Session_Type.SCHEMA)\n",
    "trans = transaction(session, Proto.Transaction_Type.WRITE)\n",
    "schema = read(\"./schema.tql\", String)\n",
    "define(trans, schema)\n",
    "commit(trans)\n",
    "close(session)\n",
    "close(client)"
   ]
  },
  {
   "cell_type": "markdown",
   "id": "09f98803-83fc-420b-acfd-40bbacd52500",
   "metadata": {},
   "source": [
    "# Writing Data"
   ]
  },
  {
   "cell_type": "markdown",
   "id": "778b0620-d3b4-49dd-8e9c-d1048b9bc344",
   "metadata": {},
   "source": [
    "## Preparing the queries"
   ]
  },
  {
   "cell_type": "code",
   "execution_count": null,
   "id": "5c1b22e7-f2b4-4b84-81f6-62488f0a67a7",
   "metadata": {},
   "outputs": [],
   "source": [
    "trait_df = CSV.read(\"./test.csv\", DataFrame)\n",
    "unique!(trait_df, :profile_id);"
   ]
  },
  {
   "cell_type": "code",
   "execution_count": null,
   "id": "77239fbe-9254-4ad2-9c8c-1ad6447210e4",
   "metadata": {},
   "outputs": [],
   "source": [
    "queries = String[]\n",
    "for row in eachrow(trait_df)\n",
    "    profile_id = row[1]\n",
    "    row = row[2:end]\n",
    "    for (trait, value) ∈ zip(keys(row), row)\n",
    "        if !ismissing(value)\n",
    "            query = \"\\$_ isa $(trait), has profile_id \\\"$(profile_id)\\\", has score $(quotes(value));\"\n",
    "            push!(queries, query)\n",
    "        end\n",
    "    end\n",
    "end"
   ]
  },
  {
   "cell_type": "code",
   "execution_count": null,
   "id": "82346271-51d7-49f1-830b-302dca6d4762",
   "metadata": {},
   "outputs": [],
   "source": [
    "p = Progress(length(mini_batches))\n",
    "channel = Channel{Bool}(Inf)\n",
    "@async while take!(channel)\n",
    "    next!(p)\n",
    "end\n",
    "\n",
    "mini_batches = Iterators.partition(Iterators.partition(queries, 100), 100);\n",
    "for batches in mini_batches\n",
    "    client = CoreClient(URL, PORT)\n",
    "    session = CoreSession(client, DB_NAME , Proto.Session_Type.DATA, request_timout=Inf)\n",
    "    #batches = collect(Iterators.partition(queries, 100));\n",
    "\n",
    "    @sync for batch in batches\n",
    "        query = \"\" \n",
    "        query = \"insert \" * join(batch, \"\\n\")\n",
    "        @async begin\n",
    "            trans = transaction(session, Proto.Transaction_Type.WRITE)\n",
    "            insert(trans, query)\n",
    "            commit(trans)\n",
    "            \n",
    "        end\n",
    "    end\n",
    "\n",
    "    close(session)\n",
    "    close(client)\n",
    "    push!(channel, true)\n",
    "end"
   ]
  },
  {
   "cell_type": "code",
   "execution_count": null,
   "id": "5b1beeab-084d-4e6e-9a66-0276a0eee121",
   "metadata": {},
   "outputs": [],
   "source": [
    "client = CoreClient(URL, PORT)\n",
    "session = CoreSession(client, DB_NAME , Proto.Session_Type.DATA, request_timout=Inf)\n",
    "trans = transaction(session, Proto.Transaction_Type.WRITE)\n",
    "\n",
    "query = raw\"\"\"\n",
    "match \n",
    "    $x isa candidate, has profile_id $p;\n",
    "    $y isa trait, has profile_id $p;\n",
    "insert\n",
    "    (subject: $x, trait:$y) isa measurement;\n",
    "\"\"\"\n",
    "insert(trans, query)"
   ]
  },
  {
   "cell_type": "code",
   "execution_count": null,
   "id": "a69835b1-07ee-475f-aaaa-5fcc8c37cf86",
   "metadata": {},
   "outputs": [],
   "source": []
  }
 ],
 "metadata": {
  "kernelspec": {
   "display_name": "Julia 1.6.2",
   "language": "julia",
   "name": "julia-1.6"
  },
  "language_info": {
   "file_extension": ".jl",
   "mimetype": "application/julia",
   "name": "julia",
   "version": "1.6.2"
  }
 },
 "nbformat": 4,
 "nbformat_minor": 5
}
